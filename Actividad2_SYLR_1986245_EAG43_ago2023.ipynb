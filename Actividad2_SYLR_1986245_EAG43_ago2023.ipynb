{
  "cells": [
    {
      "cell_type": "markdown",
      "id": "093543d7-16f9-415a-86c1-d1617213edfe",
      "metadata": {
        "id": "093543d7-16f9-415a-86c1-d1617213edfe"
      },
      "source": [
        "# Actividad 2\n",
        "Nombre: Susana Yareli Lino Resendiz\n",
        "\n",
        "Matrícula: 1986245\n",
        "\n",
        "Grupo: 041"
      ]
    },
    {
      "cell_type": "markdown",
      "id": "aa29e0d3-4818-44b9-b57f-3cfd97b9a2ae",
      "metadata": {
        "id": "aa29e0d3-4818-44b9-b57f-3cfd97b9a2ae"
      },
      "source": [
        "1. Contamos con la edad de las personas de San Andres, un pueblito de la sierra de Nuevo León, que cuenta con 50 habitantes en total. Genera una lista con la edad de los 50 habitantes de San Andres. la lista debe llamarse \"edades_pueblito\""
      ]
    },
    {
      "cell_type": "code",
      "execution_count": 2,
      "id": "878cc4c3-3709-4c73-8e36-5e0a04838dcc",
      "metadata": {
        "id": "878cc4c3-3709-4c73-8e36-5e0a04838dcc"
      },
      "outputs": [],
      "source": [
        "# 23, 80, 99, 66, 87, 31, 61, 21, 54, 76, 78, 17, 14, 26, 100, 34, 1, 70, 5,\n",
        "#31, 51, 39, 47, 81, 69, 45, 40, 8, 44, 60, 77, 93, 22, 91, 4, 37, 87, 34, 98,\n",
        "#29, 7, 63, 11, 91, 86, 20, 33, 90, 72, 61\n",
        "#espuesta\n",
        "edades_pueblito = [23,80,99,66,87,31,61, 21, 54, 76, 78, 17, 14, 26, 100, 34, 1, 70, 5, 31, 51, 39, 47, 81, 69, 45, 40, 8, 44, 60, 77, 93, 22, 91, 4, 37, 87, 34, 98,29, 7, 63, 11, 91, 86, 20, 33, 90, 72, 61]"
      ]
    },
    {
      "cell_type": "markdown",
      "id": "b4d47a26-4561-48fc-a7e8-df275c26e758",
      "metadata": {
        "id": "b4d47a26-4561-48fc-a7e8-df275c26e758"
      },
      "source": [
        "2. Importa la librería de numpy con su apodo, y luego convierte  la lista edades_pueblito en un arreglo"
      ]
    },
    {
      "cell_type": "code",
      "execution_count": 5,
      "id": "02009718-9950-4324-aca5-a448727ed50b",
      "metadata": {
        "id": "02009718-9950-4324-aca5-a448727ed50b"
      },
      "outputs": [],
      "source": [
        "#respuesta\n",
        "import numpy as np\n",
        "edades_pueblito=np.array(edades_pueblito)"
      ]
    },
    {
      "cell_type": "markdown",
      "id": "7ed73508-1db7-4567-ae2f-81bbab9345f3",
      "metadata": {
        "id": "7ed73508-1db7-4567-ae2f-81bbab9345f3"
      },
      "source": [
        "3. Calcula la media, la varianza, y la desviación estándar de la edad de los habitantes de San Andres, muestra un texto (print) con los cálculos realizados"
      ]
    },
    {
      "cell_type": "code",
      "execution_count": 9,
      "id": "ce1b283c-3f4a-4dbb-9633-099bbf4668c6",
      "metadata": {
        "colab": {
          "base_uri": "https://localhost:8080/"
        },
        "id": "ce1b283c-3f4a-4dbb-9633-099bbf4668c6",
        "outputId": "e496ee5e-2c26-490f-e2bf-4ca9db16750b"
      },
      "outputs": [
        {
          "output_type": "stream",
          "name": "stdout",
          "text": [
            "51.28\n",
            "887.2416000000001\n",
            "29.78660101455015\n"
          ]
        }
      ],
      "source": [
        "#respuesta\n",
        "np.mean(edades_pueblito)\n",
        "np.var(edades_pueblito)\n",
        "np.std(edades_pueblito)\n",
        "print(np.mean(edades_pueblito))\n",
        "print(np.var(edades_pueblito))\n",
        "print(np.std(edades_pueblito))"
      ]
    },
    {
      "cell_type": "markdown",
      "id": "ca0149e9-ab8e-4708-b17b-27c791392d1a",
      "metadata": {
        "id": "ca0149e9-ab8e-4708-b17b-27c791392d1a"
      },
      "source": [
        "4. Sin utilizar la formula de la media de numpy, es decir, sin utilizar np.mean(), como podriamos  calcular la media utlizando solo las funciones que hemos visto en clase."
      ]
    },
    {
      "cell_type": "code",
      "execution_count": 13,
      "id": "4413f41b-5a50-440c-ac59-743d8f366842",
      "metadata": {
        "colab": {
          "base_uri": "https://localhost:8080/"
        },
        "id": "4413f41b-5a50-440c-ac59-743d8f366842",
        "outputId": "b8533c5a-47a5-4223-d582-806ed0b592ac"
      },
      "outputs": [
        {
          "output_type": "stream",
          "name": "stdout",
          "text": [
            "51.28\n"
          ]
        }
      ],
      "source": [
        "#respuesta\n",
        "media = (sum(edades_pueblito)) / len(edades_pueblito)\n",
        "print(media)"
      ]
    },
    {
      "cell_type": "markdown",
      "id": "60047a79-fe4d-4967-8e71-304edce9b249",
      "metadata": {
        "id": "60047a79-fe4d-4967-8e71-304edce9b249"
      },
      "source": [
        "5. Selecciona una muestra de las edades de las primeras 20 personas del pueblo de San Andres, guardalo en un objeto llamado muestra_pueblito"
      ]
    },
    {
      "cell_type": "code",
      "execution_count": 15,
      "id": "f8dca0bc-4880-4463-a729-67503de9b140",
      "metadata": {
        "id": "f8dca0bc-4880-4463-a729-67503de9b140"
      },
      "outputs": [],
      "source": [
        "#respuesta\n",
        "muestra_pueblito=(23,80,99,66,87,31,61, 21, 54, 76, 78, 17, 14, 26, 100, 34, 1, 70, 5)"
      ]
    },
    {
      "cell_type": "markdown",
      "id": "6c2f598f-d727-4437-b060-5d7052544652",
      "metadata": {
        "id": "6c2f598f-d727-4437-b060-5d7052544652"
      },
      "source": [
        "6. Calcula la media, la varianza y la desviación estándar de la muestra de las edades del pueblo de San Andres, muestra un texto (print) con los calculos realizados"
      ]
    },
    {
      "cell_type": "code",
      "execution_count": 16,
      "id": "eceb2269-e3cb-43d4-9206-f2b21f5cd48b",
      "metadata": {
        "colab": {
          "base_uri": "https://localhost:8080/"
        },
        "id": "eceb2269-e3cb-43d4-9206-f2b21f5cd48b",
        "outputId": "93732f57-bb57-44eb-bec7-5e5d05829a50"
      },
      "outputs": [
        {
          "output_type": "stream",
          "name": "stdout",
          "text": [
            "49.63157894736842\n",
            "999.7063711911356\n",
            "31.618133581714396\n"
          ]
        }
      ],
      "source": [
        "#respuesta\n",
        "np.mean(muestra_pueblito)\n",
        "np.var(muestra_pueblito)\n",
        "np.std(muestra_pueblito)\n",
        "print(np.mean(muestra_pueblito))\n",
        "print(np.var(muestra_pueblito))\n",
        "print(np.std(muestra_pueblito))"
      ]
    },
    {
      "cell_type": "markdown",
      "id": "e702d284-b04b-4f89-8e01-bb56635c703c",
      "metadata": {
        "id": "e702d284-b04b-4f89-8e01-bb56635c703c"
      },
      "source": [
        "7. Sabemos que en San Andres se dedican a la producción de huevo de gallina. Existen 20 productores de huevo en San Andres, donde en promedio cada uno produce 5.6785 kg de huevo por día. ¿cuál es la producción de huevo en kg por mes en San Andres?\n",
        "\n",
        "Resuelve utilizando np.prod()"
      ]
    },
    {
      "cell_type": "code",
      "execution_count": 21,
      "id": "d7cc2869-27f8-4687-933c-d4975b445f44",
      "metadata": {
        "colab": {
          "base_uri": "https://localhost:8080/"
        },
        "id": "d7cc2869-27f8-4687-933c-d4975b445f44",
        "outputId": "4c3b39f6-a600-46bc-b549-c0b9b091f867"
      },
      "outputs": [
        {
          "output_type": "execute_result",
          "data": {
            "text/plain": [
              "3407.1"
            ]
          },
          "metadata": {},
          "execution_count": 21
        }
      ],
      "source": [
        "#respuesta\n",
        "promedio = [20,5.6785,30]\n",
        "promedio =np.array(promedio)\n",
        "np.prod(promedio)"
      ]
    },
    {
      "cell_type": "markdown",
      "id": "3cdf63ac-abd1-4c6f-a379-b0b22b2a3d34",
      "metadata": {
        "id": "3cdf63ac-abd1-4c6f-a379-b0b22b2a3d34"
      },
      "source": [
        "8. Resuelve el ejercicio 7 sin usar np.prod(). Resuelva  utilizando tres objetos: \"productores\" que contenga el número de productores, \"huevos_promedio_x_dia\" que contenga la producción promedio de kg de huevo al día por productor y \"días del mes\" que contega el número de días  en un mes"
      ]
    },
    {
      "cell_type": "code",
      "execution_count": 22,
      "id": "7e879332-66e1-44e2-9163-3a37b06ac78b",
      "metadata": {
        "colab": {
          "base_uri": "https://localhost:8080/"
        },
        "id": "7e879332-66e1-44e2-9163-3a37b06ac78b",
        "outputId": "7be6929c-a177-47b8-f3cd-960edb51d4cc"
      },
      "outputs": [
        {
          "output_type": "stream",
          "name": "stdout",
          "text": [
            "3407.1 kg por mes\n"
          ]
        }
      ],
      "source": [
        "#respuesta\n",
        "productores = 20\n",
        "huevos_promedio_x_dia = 5.6785\n",
        "dias_mes = 30\n",
        "produccion = productores * huevos_promedio_x_dia * dias_mes\n",
        "print(produccion, 'kg por mes')"
      ]
    }
  ],
  "metadata": {
    "kernelspec": {
      "display_name": "Python 3 (ipykernel)",
      "language": "python",
      "name": "python3"
    },
    "language_info": {
      "codemirror_mode": {
        "name": "ipython",
        "version": 3
      },
      "file_extension": ".py",
      "mimetype": "text/x-python",
      "name": "python",
      "nbconvert_exporter": "python",
      "pygments_lexer": "ipython3",
      "version": "3.8.12"
    },
    "colab": {
      "provenance": []
    }
  },
  "nbformat": 4,
  "nbformat_minor": 5
}