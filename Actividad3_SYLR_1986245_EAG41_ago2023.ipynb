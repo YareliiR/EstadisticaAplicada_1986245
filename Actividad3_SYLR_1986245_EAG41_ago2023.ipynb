{
  "cells": [
    {
      "cell_type": "markdown",
      "id": "15077421-4fb8-48e1-a360-252e20cde59a",
      "metadata": {
        "id": "15077421-4fb8-48e1-a360-252e20cde59a"
      },
      "source": [
        "# Ejercicio de Pandas"
      ]
    },
    {
      "cell_type": "markdown",
      "id": "453c7bc5-10c6-4adf-aec4-e14206fcf11f",
      "metadata": {
        "id": "453c7bc5-10c6-4adf-aec4-e14206fcf11f"
      },
      "source": [
        "Carga las 2 librerias que hemos visto a lo largo del curso junto con su \"apodo\"\n",
        "\n",
        "numpy, y pandas"
      ]
    },
    {
      "cell_type": "markdown",
      "id": "e49faae5-5c69-4680-a9ba-c33e25347850",
      "metadata": {
        "id": "e49faae5-5c69-4680-a9ba-c33e25347850"
      },
      "source": [
        "**Coloca tu nombre y matricula**\n",
        "\n",
        "Nombre: Susana Yareli Lino Reséndiz\n",
        "\n",
        "Matricula: 1986245"
      ]
    },
    {
      "cell_type": "markdown",
      "id": "98dba434",
      "metadata": {
        "id": "98dba434"
      },
      "source": [
        "1. Carga las librerias básicas"
      ]
    },
    {
      "cell_type": "code",
      "execution_count": 1,
      "id": "c93b212d-5354-4a80-8de8-dd23f90d8f1a",
      "metadata": {
        "id": "c93b212d-5354-4a80-8de8-dd23f90d8f1a"
      },
      "outputs": [],
      "source": [
        "##### carga las dos librerias usadas (numpy, pandas )\n",
        "import pandas as pd\n",
        "import numpy as np"
      ]
    },
    {
      "cell_type": "markdown",
      "id": "80e5a00d-5aeb-4ae0-be87-fb17cc86d3fd",
      "metadata": {
        "tags": [],
        "id": "80e5a00d-5aeb-4ae0-be87-fb17cc86d3fd"
      },
      "source": [
        "El siguiente comando importa un data frame desde un archivo csv de internet"
      ]
    },
    {
      "cell_type": "code",
      "execution_count": 2,
      "id": "48bf2527-df27-43d8-bdd0-20fae67e645e",
      "metadata": {
        "id": "48bf2527-df27-43d8-bdd0-20fae67e645e"
      },
      "outputs": [],
      "source": [
        " ventas = pd.read_csv('https://raw.githubusercontent.com/jimmyzac/Estadistica-Aplicada-FCFM-UANL/main/bases_datos/ventas2.csv')"
      ]
    },
    {
      "cell_type": "markdown",
      "id": "3ea4f5ac",
      "metadata": {
        "id": "3ea4f5ac"
      },
      "source": [
        "En caso de que una cantidad contenga decimales, debe estar redondeada a un decimal"
      ]
    },
    {
      "cell_type": "markdown",
      "id": "e963be95",
      "metadata": {
        "id": "e963be95"
      },
      "source": [
        "2. Características del dataframe"
      ]
    },
    {
      "cell_type": "code",
      "execution_count": 5,
      "id": "70524dc3-d37d-42e0-a570-21d022719a59",
      "metadata": {
        "colab": {
          "base_uri": "https://localhost:8080/"
        },
        "id": "70524dc3-d37d-42e0-a570-21d022719a59",
        "outputId": "b9cb9b5d-f593-4c1e-932f-b62259b996af"
      },
      "outputs": [
        {
          "output_type": "execute_result",
          "data": {
            "text/plain": [
              "Año   Mes         Ventas  Gasto\n",
              "2010  Abril       1157    599      1\n",
              "2019  Marzo       1842    1506     1\n",
              "2018  Septiembre  1406    1261     1\n",
              "2019  Abril       1578    1361     1\n",
              "      Agosto      1291    921      1\n",
              "                                  ..\n",
              "2014  Noviembre   1118    796      1\n",
              "      Octubre     1416    1083     1\n",
              "      Septiembre  1216    739      1\n",
              "2015  Abril       1031    828      1\n",
              "2023  Septiembre  2114    2142     1\n",
              "Length: 168, dtype: int64"
            ]
          },
          "metadata": {},
          "execution_count": 5
        }
      ],
      "source": [
        "#con código de python muestra cuantas filas y columnas tiene el dataframe y como se llaman las columnas\n",
        "ventas.value_counts()"
      ]
    },
    {
      "cell_type": "code",
      "execution_count": 6,
      "id": "7256d6a9-86f1-4713-afe5-6564cd004bdc",
      "metadata": {
        "colab": {
          "base_uri": "https://localhost:8080/",
          "height": 206
        },
        "id": "7256d6a9-86f1-4713-afe5-6564cd004bdc",
        "outputId": "879a8467-9cca-4f80-94de-b773f8c36765"
      },
      "outputs": [
        {
          "output_type": "execute_result",
          "data": {
            "text/plain": [
              "    Año      Mes  Ventas  Gasto\n",
              "0  2010    Enero    1056    533\n",
              "1  2010  Febrero     910    496\n",
              "2  2010    Marzo    1095    695\n",
              "3  2010    Abril    1157    599\n",
              "4  2010     Mayo     969    490"
            ],
            "text/html": [
              "\n",
              "  <div id=\"df-0543c862-4a09-48da-9e45-8c22182b2dc4\" class=\"colab-df-container\">\n",
              "    <div>\n",
              "<style scoped>\n",
              "    .dataframe tbody tr th:only-of-type {\n",
              "        vertical-align: middle;\n",
              "    }\n",
              "\n",
              "    .dataframe tbody tr th {\n",
              "        vertical-align: top;\n",
              "    }\n",
              "\n",
              "    .dataframe thead th {\n",
              "        text-align: right;\n",
              "    }\n",
              "</style>\n",
              "<table border=\"1\" class=\"dataframe\">\n",
              "  <thead>\n",
              "    <tr style=\"text-align: right;\">\n",
              "      <th></th>\n",
              "      <th>Año</th>\n",
              "      <th>Mes</th>\n",
              "      <th>Ventas</th>\n",
              "      <th>Gasto</th>\n",
              "    </tr>\n",
              "  </thead>\n",
              "  <tbody>\n",
              "    <tr>\n",
              "      <th>0</th>\n",
              "      <td>2010</td>\n",
              "      <td>Enero</td>\n",
              "      <td>1056</td>\n",
              "      <td>533</td>\n",
              "    </tr>\n",
              "    <tr>\n",
              "      <th>1</th>\n",
              "      <td>2010</td>\n",
              "      <td>Febrero</td>\n",
              "      <td>910</td>\n",
              "      <td>496</td>\n",
              "    </tr>\n",
              "    <tr>\n",
              "      <th>2</th>\n",
              "      <td>2010</td>\n",
              "      <td>Marzo</td>\n",
              "      <td>1095</td>\n",
              "      <td>695</td>\n",
              "    </tr>\n",
              "    <tr>\n",
              "      <th>3</th>\n",
              "      <td>2010</td>\n",
              "      <td>Abril</td>\n",
              "      <td>1157</td>\n",
              "      <td>599</td>\n",
              "    </tr>\n",
              "    <tr>\n",
              "      <th>4</th>\n",
              "      <td>2010</td>\n",
              "      <td>Mayo</td>\n",
              "      <td>969</td>\n",
              "      <td>490</td>\n",
              "    </tr>\n",
              "  </tbody>\n",
              "</table>\n",
              "</div>\n",
              "    <div class=\"colab-df-buttons\">\n",
              "\n",
              "  <div class=\"colab-df-container\">\n",
              "    <button class=\"colab-df-convert\" onclick=\"convertToInteractive('df-0543c862-4a09-48da-9e45-8c22182b2dc4')\"\n",
              "            title=\"Convert this dataframe to an interactive table.\"\n",
              "            style=\"display:none;\">\n",
              "\n",
              "  <svg xmlns=\"http://www.w3.org/2000/svg\" height=\"24px\" viewBox=\"0 -960 960 960\">\n",
              "    <path d=\"M120-120v-720h720v720H120Zm60-500h600v-160H180v160Zm220 220h160v-160H400v160Zm0 220h160v-160H400v160ZM180-400h160v-160H180v160Zm440 0h160v-160H620v160ZM180-180h160v-160H180v160Zm440 0h160v-160H620v160Z\"/>\n",
              "  </svg>\n",
              "    </button>\n",
              "\n",
              "  <style>\n",
              "    .colab-df-container {\n",
              "      display:flex;\n",
              "      gap: 12px;\n",
              "    }\n",
              "\n",
              "    .colab-df-convert {\n",
              "      background-color: #E8F0FE;\n",
              "      border: none;\n",
              "      border-radius: 50%;\n",
              "      cursor: pointer;\n",
              "      display: none;\n",
              "      fill: #1967D2;\n",
              "      height: 32px;\n",
              "      padding: 0 0 0 0;\n",
              "      width: 32px;\n",
              "    }\n",
              "\n",
              "    .colab-df-convert:hover {\n",
              "      background-color: #E2EBFA;\n",
              "      box-shadow: 0px 1px 2px rgba(60, 64, 67, 0.3), 0px 1px 3px 1px rgba(60, 64, 67, 0.15);\n",
              "      fill: #174EA6;\n",
              "    }\n",
              "\n",
              "    .colab-df-buttons div {\n",
              "      margin-bottom: 4px;\n",
              "    }\n",
              "\n",
              "    [theme=dark] .colab-df-convert {\n",
              "      background-color: #3B4455;\n",
              "      fill: #D2E3FC;\n",
              "    }\n",
              "\n",
              "    [theme=dark] .colab-df-convert:hover {\n",
              "      background-color: #434B5C;\n",
              "      box-shadow: 0px 1px 3px 1px rgba(0, 0, 0, 0.15);\n",
              "      filter: drop-shadow(0px 1px 2px rgba(0, 0, 0, 0.3));\n",
              "      fill: #FFFFFF;\n",
              "    }\n",
              "  </style>\n",
              "\n",
              "    <script>\n",
              "      const buttonEl =\n",
              "        document.querySelector('#df-0543c862-4a09-48da-9e45-8c22182b2dc4 button.colab-df-convert');\n",
              "      buttonEl.style.display =\n",
              "        google.colab.kernel.accessAllowed ? 'block' : 'none';\n",
              "\n",
              "      async function convertToInteractive(key) {\n",
              "        const element = document.querySelector('#df-0543c862-4a09-48da-9e45-8c22182b2dc4');\n",
              "        const dataTable =\n",
              "          await google.colab.kernel.invokeFunction('convertToInteractive',\n",
              "                                                    [key], {});\n",
              "        if (!dataTable) return;\n",
              "\n",
              "        const docLinkHtml = 'Like what you see? Visit the ' +\n",
              "          '<a target=\"_blank\" href=https://colab.research.google.com/notebooks/data_table.ipynb>data table notebook</a>'\n",
              "          + ' to learn more about interactive tables.';\n",
              "        element.innerHTML = '';\n",
              "        dataTable['output_type'] = 'display_data';\n",
              "        await google.colab.output.renderOutput(dataTable, element);\n",
              "        const docLink = document.createElement('div');\n",
              "        docLink.innerHTML = docLinkHtml;\n",
              "        element.appendChild(docLink);\n",
              "      }\n",
              "    </script>\n",
              "  </div>\n",
              "\n",
              "\n",
              "<div id=\"df-6b0d386a-9a7f-4a51-80de-1d8d5044d2a3\">\n",
              "  <button class=\"colab-df-quickchart\" onclick=\"quickchart('df-6b0d386a-9a7f-4a51-80de-1d8d5044d2a3')\"\n",
              "            title=\"Suggest charts.\"\n",
              "            style=\"display:none;\">\n",
              "\n",
              "<svg xmlns=\"http://www.w3.org/2000/svg\" height=\"24px\"viewBox=\"0 0 24 24\"\n",
              "     width=\"24px\">\n",
              "    <g>\n",
              "        <path d=\"M19 3H5c-1.1 0-2 .9-2 2v14c0 1.1.9 2 2 2h14c1.1 0 2-.9 2-2V5c0-1.1-.9-2-2-2zM9 17H7v-7h2v7zm4 0h-2V7h2v10zm4 0h-2v-4h2v4z\"/>\n",
              "    </g>\n",
              "</svg>\n",
              "  </button>\n",
              "\n",
              "<style>\n",
              "  .colab-df-quickchart {\n",
              "    background-color: #E8F0FE;\n",
              "    border: none;\n",
              "    border-radius: 50%;\n",
              "    cursor: pointer;\n",
              "    display: none;\n",
              "    fill: #1967D2;\n",
              "    height: 32px;\n",
              "    padding: 0 0 0 0;\n",
              "    width: 32px;\n",
              "  }\n",
              "\n",
              "  .colab-df-quickchart:hover {\n",
              "    background-color: #E2EBFA;\n",
              "    box-shadow: 0px 1px 2px rgba(60, 64, 67, 0.3), 0px 1px 3px 1px rgba(60, 64, 67, 0.15);\n",
              "    fill: #174EA6;\n",
              "  }\n",
              "\n",
              "  [theme=dark] .colab-df-quickchart {\n",
              "    background-color: #3B4455;\n",
              "    fill: #D2E3FC;\n",
              "  }\n",
              "\n",
              "  [theme=dark] .colab-df-quickchart:hover {\n",
              "    background-color: #434B5C;\n",
              "    box-shadow: 0px 1px 3px 1px rgba(0, 0, 0, 0.15);\n",
              "    filter: drop-shadow(0px 1px 2px rgba(0, 0, 0, 0.3));\n",
              "    fill: #FFFFFF;\n",
              "  }\n",
              "</style>\n",
              "\n",
              "  <script>\n",
              "    async function quickchart(key) {\n",
              "      const charts = await google.colab.kernel.invokeFunction(\n",
              "          'suggestCharts', [key], {});\n",
              "    }\n",
              "    (() => {\n",
              "      let quickchartButtonEl =\n",
              "        document.querySelector('#df-6b0d386a-9a7f-4a51-80de-1d8d5044d2a3 button');\n",
              "      quickchartButtonEl.style.display =\n",
              "        google.colab.kernel.accessAllowed ? 'block' : 'none';\n",
              "    })();\n",
              "  </script>\n",
              "</div>\n",
              "    </div>\n",
              "  </div>\n"
            ]
          },
          "metadata": {},
          "execution_count": 6
        }
      ],
      "source": [
        "#muestra las primeras 5 filas del dataframe\n",
        "ventas.head(5)"
      ]
    },
    {
      "cell_type": "markdown",
      "id": "2c10a937-50af-4d99-9dfe-9128a8e21fac",
      "metadata": {
        "id": "2c10a937-50af-4d99-9dfe-9128a8e21fac"
      },
      "source": [
        "*ventas es una base de datos que contiene las ventas mensuales de una tienda X para los años 2010-2023*"
      ]
    },
    {
      "cell_type": "markdown",
      "id": "0f97e867-2de1-45ff-ba01-b5fed8e7fbe8",
      "metadata": {
        "id": "0f97e867-2de1-45ff-ba01-b5fed8e7fbe8"
      },
      "source": [
        "3. Crea una nueva columna que se llame **Ganancias** y que contenga la diferencia entre ventas-gastos"
      ]
    },
    {
      "cell_type": "code",
      "execution_count": 12,
      "id": "769b870a-802b-4c27-864d-f9a442e287bb",
      "metadata": {
        "colab": {
          "base_uri": "https://localhost:8080/",
          "height": 206
        },
        "id": "769b870a-802b-4c27-864d-f9a442e287bb",
        "outputId": "64f5f497-0d06-4180-880a-f91501bbb798"
      },
      "outputs": [
        {
          "output_type": "execute_result",
          "data": {
            "text/plain": [
              "    Año      Mes  Ventas  Gasto  Ganancias\n",
              "0  2010    Enero    1056    533        523\n",
              "1  2010  Febrero     910    496        414\n",
              "2  2010    Marzo    1095    695        400\n",
              "3  2010    Abril    1157    599        558\n",
              "4  2010     Mayo     969    490        479"
            ],
            "text/html": [
              "\n",
              "  <div id=\"df-29efc6ef-5983-47e7-9f53-43271b64c4ce\" class=\"colab-df-container\">\n",
              "    <div>\n",
              "<style scoped>\n",
              "    .dataframe tbody tr th:only-of-type {\n",
              "        vertical-align: middle;\n",
              "    }\n",
              "\n",
              "    .dataframe tbody tr th {\n",
              "        vertical-align: top;\n",
              "    }\n",
              "\n",
              "    .dataframe thead th {\n",
              "        text-align: right;\n",
              "    }\n",
              "</style>\n",
              "<table border=\"1\" class=\"dataframe\">\n",
              "  <thead>\n",
              "    <tr style=\"text-align: right;\">\n",
              "      <th></th>\n",
              "      <th>Año</th>\n",
              "      <th>Mes</th>\n",
              "      <th>Ventas</th>\n",
              "      <th>Gasto</th>\n",
              "      <th>Ganancias</th>\n",
              "    </tr>\n",
              "  </thead>\n",
              "  <tbody>\n",
              "    <tr>\n",
              "      <th>0</th>\n",
              "      <td>2010</td>\n",
              "      <td>Enero</td>\n",
              "      <td>1056</td>\n",
              "      <td>533</td>\n",
              "      <td>523</td>\n",
              "    </tr>\n",
              "    <tr>\n",
              "      <th>1</th>\n",
              "      <td>2010</td>\n",
              "      <td>Febrero</td>\n",
              "      <td>910</td>\n",
              "      <td>496</td>\n",
              "      <td>414</td>\n",
              "    </tr>\n",
              "    <tr>\n",
              "      <th>2</th>\n",
              "      <td>2010</td>\n",
              "      <td>Marzo</td>\n",
              "      <td>1095</td>\n",
              "      <td>695</td>\n",
              "      <td>400</td>\n",
              "    </tr>\n",
              "    <tr>\n",
              "      <th>3</th>\n",
              "      <td>2010</td>\n",
              "      <td>Abril</td>\n",
              "      <td>1157</td>\n",
              "      <td>599</td>\n",
              "      <td>558</td>\n",
              "    </tr>\n",
              "    <tr>\n",
              "      <th>4</th>\n",
              "      <td>2010</td>\n",
              "      <td>Mayo</td>\n",
              "      <td>969</td>\n",
              "      <td>490</td>\n",
              "      <td>479</td>\n",
              "    </tr>\n",
              "  </tbody>\n",
              "</table>\n",
              "</div>\n",
              "    <div class=\"colab-df-buttons\">\n",
              "\n",
              "  <div class=\"colab-df-container\">\n",
              "    <button class=\"colab-df-convert\" onclick=\"convertToInteractive('df-29efc6ef-5983-47e7-9f53-43271b64c4ce')\"\n",
              "            title=\"Convert this dataframe to an interactive table.\"\n",
              "            style=\"display:none;\">\n",
              "\n",
              "  <svg xmlns=\"http://www.w3.org/2000/svg\" height=\"24px\" viewBox=\"0 -960 960 960\">\n",
              "    <path d=\"M120-120v-720h720v720H120Zm60-500h600v-160H180v160Zm220 220h160v-160H400v160Zm0 220h160v-160H400v160ZM180-400h160v-160H180v160Zm440 0h160v-160H620v160ZM180-180h160v-160H180v160Zm440 0h160v-160H620v160Z\"/>\n",
              "  </svg>\n",
              "    </button>\n",
              "\n",
              "  <style>\n",
              "    .colab-df-container {\n",
              "      display:flex;\n",
              "      gap: 12px;\n",
              "    }\n",
              "\n",
              "    .colab-df-convert {\n",
              "      background-color: #E8F0FE;\n",
              "      border: none;\n",
              "      border-radius: 50%;\n",
              "      cursor: pointer;\n",
              "      display: none;\n",
              "      fill: #1967D2;\n",
              "      height: 32px;\n",
              "      padding: 0 0 0 0;\n",
              "      width: 32px;\n",
              "    }\n",
              "\n",
              "    .colab-df-convert:hover {\n",
              "      background-color: #E2EBFA;\n",
              "      box-shadow: 0px 1px 2px rgba(60, 64, 67, 0.3), 0px 1px 3px 1px rgba(60, 64, 67, 0.15);\n",
              "      fill: #174EA6;\n",
              "    }\n",
              "\n",
              "    .colab-df-buttons div {\n",
              "      margin-bottom: 4px;\n",
              "    }\n",
              "\n",
              "    [theme=dark] .colab-df-convert {\n",
              "      background-color: #3B4455;\n",
              "      fill: #D2E3FC;\n",
              "    }\n",
              "\n",
              "    [theme=dark] .colab-df-convert:hover {\n",
              "      background-color: #434B5C;\n",
              "      box-shadow: 0px 1px 3px 1px rgba(0, 0, 0, 0.15);\n",
              "      filter: drop-shadow(0px 1px 2px rgba(0, 0, 0, 0.3));\n",
              "      fill: #FFFFFF;\n",
              "    }\n",
              "  </style>\n",
              "\n",
              "    <script>\n",
              "      const buttonEl =\n",
              "        document.querySelector('#df-29efc6ef-5983-47e7-9f53-43271b64c4ce button.colab-df-convert');\n",
              "      buttonEl.style.display =\n",
              "        google.colab.kernel.accessAllowed ? 'block' : 'none';\n",
              "\n",
              "      async function convertToInteractive(key) {\n",
              "        const element = document.querySelector('#df-29efc6ef-5983-47e7-9f53-43271b64c4ce');\n",
              "        const dataTable =\n",
              "          await google.colab.kernel.invokeFunction('convertToInteractive',\n",
              "                                                    [key], {});\n",
              "        if (!dataTable) return;\n",
              "\n",
              "        const docLinkHtml = 'Like what you see? Visit the ' +\n",
              "          '<a target=\"_blank\" href=https://colab.research.google.com/notebooks/data_table.ipynb>data table notebook</a>'\n",
              "          + ' to learn more about interactive tables.';\n",
              "        element.innerHTML = '';\n",
              "        dataTable['output_type'] = 'display_data';\n",
              "        await google.colab.output.renderOutput(dataTable, element);\n",
              "        const docLink = document.createElement('div');\n",
              "        docLink.innerHTML = docLinkHtml;\n",
              "        element.appendChild(docLink);\n",
              "      }\n",
              "    </script>\n",
              "  </div>\n",
              "\n",
              "\n",
              "<div id=\"df-a438c5e3-8c01-4827-9813-70d5fbe6c652\">\n",
              "  <button class=\"colab-df-quickchart\" onclick=\"quickchart('df-a438c5e3-8c01-4827-9813-70d5fbe6c652')\"\n",
              "            title=\"Suggest charts.\"\n",
              "            style=\"display:none;\">\n",
              "\n",
              "<svg xmlns=\"http://www.w3.org/2000/svg\" height=\"24px\"viewBox=\"0 0 24 24\"\n",
              "     width=\"24px\">\n",
              "    <g>\n",
              "        <path d=\"M19 3H5c-1.1 0-2 .9-2 2v14c0 1.1.9 2 2 2h14c1.1 0 2-.9 2-2V5c0-1.1-.9-2-2-2zM9 17H7v-7h2v7zm4 0h-2V7h2v10zm4 0h-2v-4h2v4z\"/>\n",
              "    </g>\n",
              "</svg>\n",
              "  </button>\n",
              "\n",
              "<style>\n",
              "  .colab-df-quickchart {\n",
              "    background-color: #E8F0FE;\n",
              "    border: none;\n",
              "    border-radius: 50%;\n",
              "    cursor: pointer;\n",
              "    display: none;\n",
              "    fill: #1967D2;\n",
              "    height: 32px;\n",
              "    padding: 0 0 0 0;\n",
              "    width: 32px;\n",
              "  }\n",
              "\n",
              "  .colab-df-quickchart:hover {\n",
              "    background-color: #E2EBFA;\n",
              "    box-shadow: 0px 1px 2px rgba(60, 64, 67, 0.3), 0px 1px 3px 1px rgba(60, 64, 67, 0.15);\n",
              "    fill: #174EA6;\n",
              "  }\n",
              "\n",
              "  [theme=dark] .colab-df-quickchart {\n",
              "    background-color: #3B4455;\n",
              "    fill: #D2E3FC;\n",
              "  }\n",
              "\n",
              "  [theme=dark] .colab-df-quickchart:hover {\n",
              "    background-color: #434B5C;\n",
              "    box-shadow: 0px 1px 3px 1px rgba(0, 0, 0, 0.15);\n",
              "    filter: drop-shadow(0px 1px 2px rgba(0, 0, 0, 0.3));\n",
              "    fill: #FFFFFF;\n",
              "  }\n",
              "</style>\n",
              "\n",
              "  <script>\n",
              "    async function quickchart(key) {\n",
              "      const charts = await google.colab.kernel.invokeFunction(\n",
              "          'suggestCharts', [key], {});\n",
              "    }\n",
              "    (() => {\n",
              "      let quickchartButtonEl =\n",
              "        document.querySelector('#df-a438c5e3-8c01-4827-9813-70d5fbe6c652 button');\n",
              "      quickchartButtonEl.style.display =\n",
              "        google.colab.kernel.accessAllowed ? 'block' : 'none';\n",
              "    })();\n",
              "  </script>\n",
              "</div>\n",
              "    </div>\n",
              "  </div>\n"
            ]
          },
          "metadata": {},
          "execution_count": 12
        }
      ],
      "source": [
        "## escribe aqui el código\n",
        "ventas['Ganancias'] =ventas['Ventas']-ventas['Gasto']\n",
        "ventas.head()"
      ]
    },
    {
      "cell_type": "markdown",
      "id": "cf16e2ac-d08c-4a9a-96a6-a2fbecd794e3",
      "metadata": {
        "id": "cf16e2ac-d08c-4a9a-96a6-a2fbecd794e3"
      },
      "source": [
        "4. Encuentra el mes-año con las ganancias más altas"
      ]
    },
    {
      "cell_type": "code",
      "execution_count": 14,
      "id": "0506853b-39e8-4a98-9607-7fe9e3fa4471",
      "metadata": {
        "colab": {
          "base_uri": "https://localhost:8080/"
        },
        "id": "0506853b-39e8-4a98-9607-7fe9e3fa4471",
        "outputId": "6e23cd79-c051-42ce-a8c2-de931e76a18f"
      },
      "outputs": [
        {
          "output_type": "execute_result",
          "data": {
            "text/plain": [
              "Ganancias    592\n",
              "dtype: int64"
            ]
          },
          "metadata": {},
          "execution_count": 14
        }
      ],
      "source": [
        "## escribe aqui el código\n",
        "ventas.agg({'Ganancias': 'max'})"
      ]
    },
    {
      "cell_type": "markdown",
      "id": "9914fb6f-89f2-47e3-a1b2-a3a31388dd53",
      "metadata": {
        "id": "9914fb6f-89f2-47e3-a1b2-a3a31388dd53"
      },
      "source": [
        "5. Calcula e imprime las ventas totales, gastos totales y ganancias totales de  todo el periodo\\\n",
        "Ejemplo de mensaje: **las ventas totales son: 5000**, etc"
      ]
    },
    {
      "cell_type": "code",
      "execution_count": 23,
      "id": "d538d912-e521-4878-aadf-7288917df0a9",
      "metadata": {
        "colab": {
          "base_uri": "https://localhost:8080/"
        },
        "id": "d538d912-e521-4878-aadf-7288917df0a9",
        "outputId": "6764c450-247e-4a4d-c743-5d61141d3776"
      },
      "outputs": [
        {
          "output_type": "execute_result",
          "data": {
            "text/plain": [
              "Ventas       235731\n",
              "Gasto        181123\n",
              "Ganancias     54608\n",
              "dtype: int64"
            ]
          },
          "metadata": {},
          "execution_count": 23
        }
      ],
      "source": [
        "## escribe aqui el código\n",
        "ventas.agg({'Ventas': 'sum','Gasto': 'sum','Ganancias': 'sum'})"
      ]
    },
    {
      "cell_type": "markdown",
      "id": "38dae978-dc9f-4e6c-9902-98437bb6aa54",
      "metadata": {
        "id": "38dae978-dc9f-4e6c-9902-98437bb6aa54"
      },
      "source": [
        "6. Calcula y muestra las ventas, gastos y ganancias para cada año\n"
      ]
    },
    {
      "cell_type": "code",
      "execution_count": 19,
      "id": "a6a89162-0e44-428c-bbdf-2fbef86eafb6",
      "metadata": {
        "colab": {
          "base_uri": "https://localhost:8080/",
          "height": 574
        },
        "id": "a6a89162-0e44-428c-bbdf-2fbef86eafb6",
        "outputId": "b9e052a8-b895-4b05-de84-f0a2de79b3ec"
      },
      "outputs": [
        {
          "output_type": "stream",
          "name": "stderr",
          "text": [
            "<ipython-input-19-754160b7dd20>:2: FutureWarning: The default value of numeric_only in DataFrameGroupBy.sum is deprecated. In a future version, numeric_only will default to False. Either specify numeric_only or select only columns which should be valid for the function.\n",
            "  ventas.groupby('Año').sum()\n"
          ]
        },
        {
          "output_type": "execute_result",
          "data": {
            "text/plain": [
              "      Ventas  Gasto  Ganancias\n",
              "Año                           \n",
              "2010   12015   6756       5259\n",
              "2011   12778   7806       4972\n",
              "2012   12965   8430       4535\n",
              "2013   14037   8963       5074\n",
              "2014   14922  10377       4545\n",
              "2015   14951  10784       4167\n",
              "2016   15376  11053       4323\n",
              "2017   17189  12369       4820\n",
              "2018   18325  14648       3677\n",
              "2019   18204  14759       3445\n",
              "2020   18917  16206       2711\n",
              "2021   21057  17693       3364\n",
              "2022   21692  18946       2746\n",
              "2023   23303  22333        970"
            ],
            "text/html": [
              "\n",
              "  <div id=\"df-82549e59-bfd8-4212-83df-913003d30a53\" class=\"colab-df-container\">\n",
              "    <div>\n",
              "<style scoped>\n",
              "    .dataframe tbody tr th:only-of-type {\n",
              "        vertical-align: middle;\n",
              "    }\n",
              "\n",
              "    .dataframe tbody tr th {\n",
              "        vertical-align: top;\n",
              "    }\n",
              "\n",
              "    .dataframe thead th {\n",
              "        text-align: right;\n",
              "    }\n",
              "</style>\n",
              "<table border=\"1\" class=\"dataframe\">\n",
              "  <thead>\n",
              "    <tr style=\"text-align: right;\">\n",
              "      <th></th>\n",
              "      <th>Ventas</th>\n",
              "      <th>Gasto</th>\n",
              "      <th>Ganancias</th>\n",
              "    </tr>\n",
              "    <tr>\n",
              "      <th>Año</th>\n",
              "      <th></th>\n",
              "      <th></th>\n",
              "      <th></th>\n",
              "    </tr>\n",
              "  </thead>\n",
              "  <tbody>\n",
              "    <tr>\n",
              "      <th>2010</th>\n",
              "      <td>12015</td>\n",
              "      <td>6756</td>\n",
              "      <td>5259</td>\n",
              "    </tr>\n",
              "    <tr>\n",
              "      <th>2011</th>\n",
              "      <td>12778</td>\n",
              "      <td>7806</td>\n",
              "      <td>4972</td>\n",
              "    </tr>\n",
              "    <tr>\n",
              "      <th>2012</th>\n",
              "      <td>12965</td>\n",
              "      <td>8430</td>\n",
              "      <td>4535</td>\n",
              "    </tr>\n",
              "    <tr>\n",
              "      <th>2013</th>\n",
              "      <td>14037</td>\n",
              "      <td>8963</td>\n",
              "      <td>5074</td>\n",
              "    </tr>\n",
              "    <tr>\n",
              "      <th>2014</th>\n",
              "      <td>14922</td>\n",
              "      <td>10377</td>\n",
              "      <td>4545</td>\n",
              "    </tr>\n",
              "    <tr>\n",
              "      <th>2015</th>\n",
              "      <td>14951</td>\n",
              "      <td>10784</td>\n",
              "      <td>4167</td>\n",
              "    </tr>\n",
              "    <tr>\n",
              "      <th>2016</th>\n",
              "      <td>15376</td>\n",
              "      <td>11053</td>\n",
              "      <td>4323</td>\n",
              "    </tr>\n",
              "    <tr>\n",
              "      <th>2017</th>\n",
              "      <td>17189</td>\n",
              "      <td>12369</td>\n",
              "      <td>4820</td>\n",
              "    </tr>\n",
              "    <tr>\n",
              "      <th>2018</th>\n",
              "      <td>18325</td>\n",
              "      <td>14648</td>\n",
              "      <td>3677</td>\n",
              "    </tr>\n",
              "    <tr>\n",
              "      <th>2019</th>\n",
              "      <td>18204</td>\n",
              "      <td>14759</td>\n",
              "      <td>3445</td>\n",
              "    </tr>\n",
              "    <tr>\n",
              "      <th>2020</th>\n",
              "      <td>18917</td>\n",
              "      <td>16206</td>\n",
              "      <td>2711</td>\n",
              "    </tr>\n",
              "    <tr>\n",
              "      <th>2021</th>\n",
              "      <td>21057</td>\n",
              "      <td>17693</td>\n",
              "      <td>3364</td>\n",
              "    </tr>\n",
              "    <tr>\n",
              "      <th>2022</th>\n",
              "      <td>21692</td>\n",
              "      <td>18946</td>\n",
              "      <td>2746</td>\n",
              "    </tr>\n",
              "    <tr>\n",
              "      <th>2023</th>\n",
              "      <td>23303</td>\n",
              "      <td>22333</td>\n",
              "      <td>970</td>\n",
              "    </tr>\n",
              "  </tbody>\n",
              "</table>\n",
              "</div>\n",
              "    <div class=\"colab-df-buttons\">\n",
              "\n",
              "  <div class=\"colab-df-container\">\n",
              "    <button class=\"colab-df-convert\" onclick=\"convertToInteractive('df-82549e59-bfd8-4212-83df-913003d30a53')\"\n",
              "            title=\"Convert this dataframe to an interactive table.\"\n",
              "            style=\"display:none;\">\n",
              "\n",
              "  <svg xmlns=\"http://www.w3.org/2000/svg\" height=\"24px\" viewBox=\"0 -960 960 960\">\n",
              "    <path d=\"M120-120v-720h720v720H120Zm60-500h600v-160H180v160Zm220 220h160v-160H400v160Zm0 220h160v-160H400v160ZM180-400h160v-160H180v160Zm440 0h160v-160H620v160ZM180-180h160v-160H180v160Zm440 0h160v-160H620v160Z\"/>\n",
              "  </svg>\n",
              "    </button>\n",
              "\n",
              "  <style>\n",
              "    .colab-df-container {\n",
              "      display:flex;\n",
              "      gap: 12px;\n",
              "    }\n",
              "\n",
              "    .colab-df-convert {\n",
              "      background-color: #E8F0FE;\n",
              "      border: none;\n",
              "      border-radius: 50%;\n",
              "      cursor: pointer;\n",
              "      display: none;\n",
              "      fill: #1967D2;\n",
              "      height: 32px;\n",
              "      padding: 0 0 0 0;\n",
              "      width: 32px;\n",
              "    }\n",
              "\n",
              "    .colab-df-convert:hover {\n",
              "      background-color: #E2EBFA;\n",
              "      box-shadow: 0px 1px 2px rgba(60, 64, 67, 0.3), 0px 1px 3px 1px rgba(60, 64, 67, 0.15);\n",
              "      fill: #174EA6;\n",
              "    }\n",
              "\n",
              "    .colab-df-buttons div {\n",
              "      margin-bottom: 4px;\n",
              "    }\n",
              "\n",
              "    [theme=dark] .colab-df-convert {\n",
              "      background-color: #3B4455;\n",
              "      fill: #D2E3FC;\n",
              "    }\n",
              "\n",
              "    [theme=dark] .colab-df-convert:hover {\n",
              "      background-color: #434B5C;\n",
              "      box-shadow: 0px 1px 3px 1px rgba(0, 0, 0, 0.15);\n",
              "      filter: drop-shadow(0px 1px 2px rgba(0, 0, 0, 0.3));\n",
              "      fill: #FFFFFF;\n",
              "    }\n",
              "  </style>\n",
              "\n",
              "    <script>\n",
              "      const buttonEl =\n",
              "        document.querySelector('#df-82549e59-bfd8-4212-83df-913003d30a53 button.colab-df-convert');\n",
              "      buttonEl.style.display =\n",
              "        google.colab.kernel.accessAllowed ? 'block' : 'none';\n",
              "\n",
              "      async function convertToInteractive(key) {\n",
              "        const element = document.querySelector('#df-82549e59-bfd8-4212-83df-913003d30a53');\n",
              "        const dataTable =\n",
              "          await google.colab.kernel.invokeFunction('convertToInteractive',\n",
              "                                                    [key], {});\n",
              "        if (!dataTable) return;\n",
              "\n",
              "        const docLinkHtml = 'Like what you see? Visit the ' +\n",
              "          '<a target=\"_blank\" href=https://colab.research.google.com/notebooks/data_table.ipynb>data table notebook</a>'\n",
              "          + ' to learn more about interactive tables.';\n",
              "        element.innerHTML = '';\n",
              "        dataTable['output_type'] = 'display_data';\n",
              "        await google.colab.output.renderOutput(dataTable, element);\n",
              "        const docLink = document.createElement('div');\n",
              "        docLink.innerHTML = docLinkHtml;\n",
              "        element.appendChild(docLink);\n",
              "      }\n",
              "    </script>\n",
              "  </div>\n",
              "\n",
              "\n",
              "<div id=\"df-44906953-c806-4100-b715-d38889f001f9\">\n",
              "  <button class=\"colab-df-quickchart\" onclick=\"quickchart('df-44906953-c806-4100-b715-d38889f001f9')\"\n",
              "            title=\"Suggest charts.\"\n",
              "            style=\"display:none;\">\n",
              "\n",
              "<svg xmlns=\"http://www.w3.org/2000/svg\" height=\"24px\"viewBox=\"0 0 24 24\"\n",
              "     width=\"24px\">\n",
              "    <g>\n",
              "        <path d=\"M19 3H5c-1.1 0-2 .9-2 2v14c0 1.1.9 2 2 2h14c1.1 0 2-.9 2-2V5c0-1.1-.9-2-2-2zM9 17H7v-7h2v7zm4 0h-2V7h2v10zm4 0h-2v-4h2v4z\"/>\n",
              "    </g>\n",
              "</svg>\n",
              "  </button>\n",
              "\n",
              "<style>\n",
              "  .colab-df-quickchart {\n",
              "    background-color: #E8F0FE;\n",
              "    border: none;\n",
              "    border-radius: 50%;\n",
              "    cursor: pointer;\n",
              "    display: none;\n",
              "    fill: #1967D2;\n",
              "    height: 32px;\n",
              "    padding: 0 0 0 0;\n",
              "    width: 32px;\n",
              "  }\n",
              "\n",
              "  .colab-df-quickchart:hover {\n",
              "    background-color: #E2EBFA;\n",
              "    box-shadow: 0px 1px 2px rgba(60, 64, 67, 0.3), 0px 1px 3px 1px rgba(60, 64, 67, 0.15);\n",
              "    fill: #174EA6;\n",
              "  }\n",
              "\n",
              "  [theme=dark] .colab-df-quickchart {\n",
              "    background-color: #3B4455;\n",
              "    fill: #D2E3FC;\n",
              "  }\n",
              "\n",
              "  [theme=dark] .colab-df-quickchart:hover {\n",
              "    background-color: #434B5C;\n",
              "    box-shadow: 0px 1px 3px 1px rgba(0, 0, 0, 0.15);\n",
              "    filter: drop-shadow(0px 1px 2px rgba(0, 0, 0, 0.3));\n",
              "    fill: #FFFFFF;\n",
              "  }\n",
              "</style>\n",
              "\n",
              "  <script>\n",
              "    async function quickchart(key) {\n",
              "      const charts = await google.colab.kernel.invokeFunction(\n",
              "          'suggestCharts', [key], {});\n",
              "    }\n",
              "    (() => {\n",
              "      let quickchartButtonEl =\n",
              "        document.querySelector('#df-44906953-c806-4100-b715-d38889f001f9 button');\n",
              "      quickchartButtonEl.style.display =\n",
              "        google.colab.kernel.accessAllowed ? 'block' : 'none';\n",
              "    })();\n",
              "  </script>\n",
              "</div>\n",
              "    </div>\n",
              "  </div>\n"
            ]
          },
          "metadata": {},
          "execution_count": 19
        }
      ],
      "source": [
        "## escribe aqui el código\n",
        "ventas.groupby('Año').sum()"
      ]
    },
    {
      "cell_type": "markdown",
      "id": "caffc594-8756-4b20-9f24-49e460ca7797",
      "metadata": {
        "id": "caffc594-8756-4b20-9f24-49e460ca7797"
      },
      "source": [
        "7. Calcula y muestra las ventas promedio mensuales del año 2015"
      ]
    },
    {
      "cell_type": "code",
      "execution_count": 29,
      "id": "6beb888c-8b82-4755-9184-2487451436d9",
      "metadata": {
        "id": "6beb888c-8b82-4755-9184-2487451436d9"
      },
      "outputs": [],
      "source": [
        "## escribe aqui el código\n",
        "##Pista: primero filtra para el año 2015, luego selecciona la columna ventas\n"
      ]
    },
    {
      "cell_type": "markdown",
      "id": "5a7f7347-3def-4fd7-a14a-4ee98b327da6",
      "metadata": {
        "id": "5a7f7347-3def-4fd7-a14a-4ee98b327da6"
      },
      "source": [
        "8. Calcula e imprime las ventas totales y ventas promedio para los eneros. Es decir, para enero de 2010, enero de 2011, enero 2012, etc"
      ]
    },
    {
      "cell_type": "code",
      "execution_count": null,
      "id": "03387695-22af-481c-93e4-c0493df7a9a5",
      "metadata": {
        "id": "03387695-22af-481c-93e4-c0493df7a9a5"
      },
      "outputs": [],
      "source": [
        "## escribe aqui el código ventas totales\n",
        "##Pista: primero filtra los meses de enero, luego selecciona la columna ventas\n"
      ]
    },
    {
      "cell_type": "code",
      "execution_count": null,
      "id": "dd6aad47",
      "metadata": {
        "id": "dd6aad47"
      },
      "outputs": [],
      "source": [
        "## escribe aqui el código ventas promedio\n"
      ]
    },
    {
      "cell_type": "markdown",
      "id": "f462b2c6-3d85-4c51-8958-d48716cdddd2",
      "metadata": {
        "id": "f462b2c6-3d85-4c51-8958-d48716cdddd2"
      },
      "source": [
        "9. Calcula las ventas promedio por mes, y muestra los meses ordenados de menor a mayor según su promedio"
      ]
    },
    {
      "cell_type": "code",
      "execution_count": null,
      "id": "9befa656-d898-49f8-b00c-f93485d05560",
      "metadata": {
        "id": "9befa656-d898-49f8-b00c-f93485d05560"
      },
      "outputs": [],
      "source": [
        "## aqui va tu codigo\n",
        "\n"
      ]
    }
  ],
  "metadata": {
    "kernelspec": {
      "display_name": "Python 3 (ipykernel)",
      "language": "python",
      "name": "python3"
    },
    "language_info": {
      "codemirror_mode": {
        "name": "ipython",
        "version": 3
      },
      "file_extension": ".py",
      "mimetype": "text/x-python",
      "name": "python",
      "nbconvert_exporter": "python",
      "pygments_lexer": "ipython3",
      "version": "3.11.4"
    },
    "colab": {
      "provenance": []
    }
  },
  "nbformat": 4,
  "nbformat_minor": 5
}